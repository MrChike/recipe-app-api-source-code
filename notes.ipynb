{
 "metadata": {
  "language_info": {
   "codemirror_mode": {
    "name": "ipython",
    "version": 3
   },
   "file_extension": ".py",
   "mimetype": "text/x-python",
   "name": "python",
   "nbconvert_exporter": "python",
   "pygments_lexer": "ipython3",
   "version": 3
  },
  "orig_nbformat": 2
 },
 "nbformat": 4,
 "nbformat_minor": 2,
 "cells": [
  {
   "cell_type": "markdown",
   "metadata": {},
   "source": [
    "### STOPPED AT -"
   ]
  },
  {
   "cell_type": "markdown",
   "metadata": {},
   "source": [
    "# Lessons"
   ]
  },
  {
   "cell_type": "markdown",
   "metadata": {},
   "source": [
    "# Resources\n",
    "\n",
    "* https://travis-ci.com/account/repositories\n",
    "* https://docs.djangoproject.com/en/3.0/internals/contributing/writing-code/unit-tests/\n",
    "* https://docs.djangoproject.com/en/3.0/topics/testing/\n",
    "* https://docs.python.org/3/library/unittest.html#assert-methods\n",
    "* https://docs.djangoproject.com/en/3.0/ref/django-admin/#startapp\n",
    "* https://docs.djangoproject.com/en/3.0/ref/settings/#installed-apps\n",
    "* https://docs.djangoproject.com/en/3.0/topics/auth/customizing/#django.contrib.auth.models.AbstractBaseUser.check_password\n",
    "* https://docs.djangoproject.com/en/3.0/topics/auth/customizing/#django.contrib.auth.get_user_model\n",
    "* https://docs.djangoproject.com/en/3.0/topics/auth/customizing/#substituting-a-custom-user-model\n",
    "* https://docs.djangoproject.com/en/3.0/topics/auth/customizing/#django.contrib.auth.models.PermissionsMixin\n",
    "* https://docs.djangoproject.com/en/3.0/topics/auth/customizing/#django.contrib.auth.models.BaseUserManager\n",
    "* https://docs.djangoproject.com/en/3.0/topics/auth/customizing/#django.contrib.auth.models.AbstractBaseUser\n",
    "* https://docs.djangoproject.com/en/3.0/topics/auth/customizing/#django.contrib.auth.models.BaseUserManager.normalize_email\n",
    "* https://docs.djangoproject.com/en/3.0/ref/django-admin/#createsuperuser\n",
    "* https://docs.djangoproject.com/en/2.2/topics/testing/tools/#overview-and-a-quick-example\n",
    "* https://docs.djangoproject.com/en/3.0/ref/contrib/admin/\n",
    "* https://docs.djangoproject.com/en/3.0/ref/contrib/admin/#django.contrib.admin.ModelAdmin.fieldsets"
   ]
  },
  {
   "cell_type": "markdown",
   "metadata": {},
   "source": [
    "# Commands\n",
    "* docker-compose build\n",
    "* docker-compose run app sh -c \"python manage.py test\"\n",
    "* docker-compose run app sh -c \"python manage.py makemigrations core\""
   ]
  }
 ]
}